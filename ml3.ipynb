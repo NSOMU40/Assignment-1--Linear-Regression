{
 "cells": [
  {
   "cell_type": "code",
   "execution_count": null,
   "id": "b6b6c67e",
   "metadata": {},
   "outputs": [],
   "source": [
    "#Assignment-3\n",
    "#Naga Venkata Pavan Kumar Somu\n",
    "#NSOMU"
   ]
  },
  {
   "cell_type": "code",
   "execution_count": null,
   "id": "9d5ea7c1",
   "metadata": {},
   "outputs": [],
   "source": [
    "#1.Data Preprocessing"
   ]
  },
  {
   "cell_type": "code",
   "execution_count": 15,
   "id": "3735ca08",
   "metadata": {},
   "outputs": [
    {
     "name": "stdout",
     "output_type": "stream",
     "text": [
      "First few rows of the training dataset:\n",
      "       ID  Gender Ever_Married  Age Graduated     Profession  Work_Experience  \\\n",
      "0  462809    Male           No   22        No     Healthcare              1.0   \n",
      "1  462643  Female          Yes   38       Yes       Engineer              NaN   \n",
      "2  466315  Female          Yes   67       Yes       Engineer              1.0   \n",
      "3  461735    Male          Yes   67       Yes         Lawyer              0.0   \n",
      "4  462669  Female          Yes   40       Yes  Entertainment              NaN   \n",
      "\n",
      "  Spending_Score  Family_Size  Var_1 Segmentation  \n",
      "0            Low          4.0  Cat_4            D  \n",
      "1        Average          3.0  Cat_4            A  \n",
      "2            Low          1.0  Cat_6            B  \n",
      "3           High          2.0  Cat_6            B  \n",
      "4           High          6.0  Cat_6            A  \n",
      "\n",
      "Information about the training dataset:\n",
      "<class 'pandas.core.frame.DataFrame'>\n",
      "RangeIndex: 8068 entries, 0 to 8067\n",
      "Data columns (total 11 columns):\n",
      " #   Column           Non-Null Count  Dtype  \n",
      "---  ------           --------------  -----  \n",
      " 0   ID               8068 non-null   int64  \n",
      " 1   Gender           8068 non-null   object \n",
      " 2   Ever_Married     7928 non-null   object \n",
      " 3   Age              8068 non-null   int64  \n",
      " 4   Graduated        7990 non-null   object \n",
      " 5   Profession       7944 non-null   object \n",
      " 6   Work_Experience  7239 non-null   float64\n",
      " 7   Spending_Score   8068 non-null   object \n",
      " 8   Family_Size      7733 non-null   float64\n",
      " 9   Var_1            7992 non-null   object \n",
      " 10  Segmentation     8068 non-null   object \n",
      "dtypes: float64(2), int64(2), object(7)\n",
      "memory usage: 693.5+ KB\n",
      "None\n",
      "\n",
      "Modified training dataset:\n",
      "       ID  Gender  Ever_Married   Age  Graduated  Profession  Work_Experience  \\\n",
      "0  462809       1             0  22.0          0           5         1.000000   \n",
      "1  462643       0             1  38.0          1           2         2.641663   \n",
      "2  466315       0             1  67.0          1           2         1.000000   \n",
      "3  461735       1             1  67.0          1           7         0.000000   \n",
      "4  462669       0             1  40.0          1           3         2.641663   \n",
      "\n",
      "   Spending_Score  Family_Size  Var_1  Segmentation  \n",
      "0               2          4.0      3             3  \n",
      "1               0          3.0      3             0  \n",
      "2               2          1.0      5             1  \n",
      "3               1          2.0      5             1  \n",
      "4               1          6.0      5             0  \n"
     ]
    }
   ],
   "source": [
    "import pandas as pd\n",
    "from sklearn.impute import SimpleImputer\n",
    "from sklearn.preprocessing import LabelEncoder\n",
    "\n",
    "#dataset loaded\n",
    "data = pd.read_csv(\"train.csv\")\n",
    "\n",
    "#  training data,Initial exploratory data analysis \n",
    "print(\"First few rows of the training dataset:\")\n",
    "print(data.head())  \n",
    "print(\"\\nInformation about the training dataset:\")\n",
    "print(data.info())  \n",
    "\n",
    "# Handling the null values appropriately (using mean imputation)\n",
    "imputer = SimpleImputer(strategy='mean')\n",
    "data['Age'] = imputer.fit_transform(data[['Age']])\n",
    "data['Work_Experience'] = imputer.fit_transform(data[['Work_Experience']])\n",
    "data['Family_Size'] = imputer.fit_transform(data[['Family_Size']])\n",
    "\n",
    "# Converting the categorical variables to numerical format\n",
    "label_encoder = LabelEncoder()\n",
    "for column in ['Gender', 'Ever_Married', 'Graduated', 'Profession', 'Spending_Score', 'Var_1']:\n",
    "    data[column] = label_encoder.fit_transform(data[column])\n",
    "\n",
    "# Encoding the target variable 'Segmentation' in the classification task\n",
    "data['Segmentation'] = label_encoder.fit_transform(data['Segmentation'])\n",
    "\n",
    "\n",
    "print(\"\\nModified training dataset:\")\n",
    "print(data.head())  \n",
    "\n",
    "\n",
    "X_train = data.drop(columns=['Segmentation']) \n",
    "y_train = data['Segmentation']\n"
   ]
  },
  {
   "cell_type": "code",
   "execution_count": null,
   "id": "ae788a15",
   "metadata": {},
   "outputs": [],
   "source": [
    "#2 Neural Network Implementation from Scratch: part 1"
   ]
  },
  {
   "cell_type": "code",
   "execution_count": 16,
   "id": "4fe1f415",
   "metadata": {},
   "outputs": [],
   "source": [
    "import numpy as np\n",
    "\n",
    "class NN:\n",
    "    def __init__(self, in_sz, hid_sz, out_sz, act='sigmoid', lr=0.01):\n",
    "        self.in_sz = in_sz\n",
    "        self.hid_sz = hid_sz\n",
    "        self.out_sz = out_sz\n",
    "        self.act = act\n",
    "        self.lr = lr\n",
    "        \n",
    "        # Initialize weights and biases\n",
    "        self.W_in_hid = np.random.randn(self.in_sz, self.hid_sz)\n",
    "        self.b_in_hid = np.zeros((1, self.hid_sz))\n",
    "        self.W_hid_out = np.random.randn(self.hid_sz, self.out_sz)\n",
    "        self.b_hid_out = np.zeros((1, self.out_sz))\n",
    "        \n",
    "    def sig(self, x):\n",
    "        return 1 / (1 + np.exp(-x))\n",
    "    \n",
    "    def sig_der(self, x):\n",
    "        return x * (1 - x)\n",
    "    \n",
    "    def relu(self, x):\n",
    "        return np.maximum(0, x)\n",
    "    \n",
    "    def relu_der(self, x):\n",
    "        return np.where(x > 0, 1, 0)\n",
    "    \n",
    "    def forward(self, inputs):\n",
    "        # Input to hidden layer\n",
    "        self.hid_out = np.dot(inputs, self.W_in_hid) + self.b_in_hid\n",
    "        if self.act == 'sigmoid':\n",
    "            self.hid_out_act = self.sig(self.hid_out)\n",
    "        elif self.act == 'relu':\n",
    "            self.hid_out_act = self.relu(self.hid_out)\n",
    "        \n",
    "        # Hidden to output layer\n",
    "        self.out = np.dot(self.hid_out_act, self.W_hid_out) + self.b_hid_out\n",
    "        if self.act == 'sigmoid':\n",
    "            self.out_act = self.sig(self.out)\n",
    "        elif self.act == 'relu':\n",
    "            self.out_act = self.relu(self.out)\n",
    "        \n",
    "        return self.out_act\n",
    "    \n",
    "    def backward(self, inputs, targets):\n",
    "        # Computing output layer err\n",
    "        out_err = targets - self.out_act\n",
    "        if self.act == 'sigmoid':\n",
    "            out_delta = out_err * self.sig_der(self.out_act)\n",
    "        elif self.act == 'relu':\n",
    "            out_delta = out_err * self.relu_der(self.out_act)\n",
    "        \n",
    "        # Computing hidden layer err\n",
    "        hid_err = out_delta.dot(self.W_hid_out.T)\n",
    "        if self.act == 'sigmoid':\n",
    "            hid_delta = hid_err * self.sig_der(self.hid_out_act)\n",
    "        elif self.act == 'relu':\n",
    "            hid_delta = hid_err * self.relu_der(self.hid_out_act)\n",
    "        \n",
    "       \n",
    "        self.W_hid_out += self.hid_out_act.T.dot(out_delta) * self.lr\n",
    "        self.b_hid_out += np.sum(out_delta, axis=0, keepdims=True) * self.lr\n",
    "        self.W_in_hid += inputs.T.dot(hid_delta) * self.lr\n",
    "        self.b_in_hid += np.sum(hid_delta, axis=0, keepdims=True) * self.lr\n",
    "        \n",
    "    def train(self, inputs, targets, epochs):\n",
    "        for epoch in range(epochs):\n",
    "            output = self.forward(inputs)\n",
    "            self.backward(inputs, targets)\n",
    "            if epoch % 100 == 0:\n",
    "                loss = np.mean(np.square(targets - output))\n",
    "                print(f\"Epoch {epoch}: Loss {loss}\")\n"
   ]
  },
  {
   "cell_type": "code",
   "execution_count": null,
   "id": "36643e57",
   "metadata": {},
   "outputs": [],
   "source": [
    "# 2. part 2"
   ]
  },
  {
   "cell_type": "code",
   "execution_count": 18,
   "id": "084b7b7f",
   "metadata": {},
   "outputs": [
    {
     "name": "stderr",
     "output_type": "stream",
     "text": [
      "C:\\Users\\somu4\\AppData\\Local\\Temp\\ipykernel_23436\\774626023.py:18: RuntimeWarning: overflow encountered in exp\n",
      "  return 1 / (1 + np.exp(-x))\n"
     ]
    },
    {
     "name": "stdout",
     "output_type": "stream",
     "text": [
      "Epoch 0: Loss 3.6610864700509005\n",
      "Epoch 100: Loss 1.6130391670798214\n",
      "Epoch 200: Loss 1.6130391670798214\n",
      "Epoch 300: Loss 1.6130391670798214\n",
      "Epoch 400: Loss 1.6130391670798214\n",
      "Epoch 500: Loss 1.6130391670798214\n",
      "Epoch 600: Loss 1.6130391670798214\n",
      "Epoch 700: Loss 1.6130391670798214\n",
      "Epoch 800: Loss 1.6130391670798214\n",
      "Epoch 900: Loss 1.6130391670798214\n"
     ]
    }
   ],
   "source": [
    "# Defining the input features (X) and target labels (y)\n",
    "in_size = X_train.shape[1]\n",
    "hid_size = 64\n",
    "out_size = 1\n",
    "lr = 0.01\n",
    "\n",
    "# neural network\n",
    "nn = NN(in_size, hid_size, out_size, 'sigmoid', lr)\n",
    "\n",
    "# Training the model\n",
    "for epoch in range(1000):\n",
    "    output = nn.forward(X_train)\n",
    "    nn.backward(X_train, y_train)\n",
    "    if epoch % 100 == 0:\n",
    "        loss = np.mean(np.square(y_train - output))\n",
    "        print(f\"Epoch {epoch}: Loss {loss}\")\n"
   ]
  },
  {
   "cell_type": "code",
   "execution_count": null,
   "id": "9e5d304d",
   "metadata": {},
   "outputs": [],
   "source": [
    "#2. part 3"
   ]
  },
  {
   "cell_type": "code",
   "execution_count": 19,
   "id": "ae9c9a9e",
   "metadata": {},
   "outputs": [
    {
     "name": "stdout",
     "output_type": "stream",
     "text": [
      "Epoch 0: Loss 428706292075.37366\n",
      "Epoch 100: Loss 3.7369856222112046\n",
      "Epoch 200: Loss 3.7369856222112046\n",
      "Epoch 300: Loss 3.7369856222112046\n",
      "Epoch 400: Loss 3.7369856222112046\n",
      "Epoch 500: Loss 3.7369856222112046\n",
      "Epoch 600: Loss 3.7369856222112046\n",
      "Epoch 700: Loss 3.7369856222112046\n",
      "Epoch 800: Loss 3.7369856222112046\n",
      "Epoch 900: Loss 3.7369856222112046\n"
     ]
    }
   ],
   "source": [
    "#  neural network with ReLU activation function\n",
    "nn_relu = NN(in_size, hid_size, out_size, 'relu', lr)\n",
    "\n",
    "# Training the model with ReLU activation function\n",
    "for ep in range(1000):\n",
    "    out = nn_relu.forward(X)\n",
    "    nn_relu.backward(X, y)\n",
    "    if ep % 100 == 0:\n",
    "        loss = np.mean(np.square(y - out))\n",
    "        print(f\"Epoch {ep}: Loss {loss}\")\n"
   ]
  },
  {
   "cell_type": "code",
   "execution_count": null,
   "id": "e0b2e684",
   "metadata": {},
   "outputs": [],
   "source": []
  },
  {
   "cell_type": "code",
   "execution_count": null,
   "id": "e63ddc18",
   "metadata": {},
   "outputs": [],
   "source": [
    "#3.Neural Network using Scikit-learn:"
   ]
  },
  {
   "cell_type": "code",
   "execution_count": 25,
   "id": "2236d15c",
   "metadata": {},
   "outputs": [
    {
     "data": {
      "image/png": "[encoded data removed]",
      "text/plain": [
       "<Figure size 1000x600 with 1 Axes>"
      ]
     },
     "metadata": {},
     "output_type": "display_data"
    }
   ],
   "source": [
    "import pandas as pd\n",
    "from sklearn.neural_network import MLPClassifier\n",
    "from sklearn.model_selection import train_test_split\n",
    "from sklearn.preprocessing import LabelEncoder\n",
    "from sklearn.impute import SimpleImputer\n",
    "import matplotlib.pyplot as plt\n",
    "\n",
    "\n",
    "df = pd.read_csv(\"train.csv\")\n",
    " \n",
    "#  features and target variable is being seperated\n",
    "X = df.drop(columns=['Segmentation'])\n",
    "y = df['Segmentation']\n",
    "\n",
    "\n",
    "le = LabelEncoder()\n",
    "for col in X.select_dtypes(include=['object']).columns:\n",
    "    X[col] = le.fit_transform(X[col])\n",
    "\n",
    "\n",
    "imp = SimpleImputer(strategy='mean')\n",
    "X = imp.fit_transform(X)\n",
    "\n",
    "# Splitting dataset into training and testing sets\n",
    "X_tr, X_te, y_tr, y_te = train_test_split(X, y, test_size=0.2, random_state=42)\n",
    "\n",
    "# In hidden layers,Defining range of neuron counts\n",
    "nc = range(5, 101, 5)\n",
    "\n",
    "\n",
    "acc_scores = []\n",
    "\n",
    "\n",
    "    mdl = MLPClassifier(hidden_layer_sizes=(n,), random_state=42)\n",
    "    mdl.fit(X_tr, y_tr)\n",
    "    acc = mdl.score(X_te, y_te)\n",
    "    acc_scores.append(acc)\n",
    "\n",
    "# Plotting the graph\n",
    "plt.figure(figsize=(10, 6))\n",
    "plt.plot(nc, acc_scores, marker='o')\n",
    "plt.title('Accuracy vs. Number of Neurons in Hidden Layer')\n",
    "plt.xlabel('Number of Neurons')\n",
    "plt.ylabel('Accuracy')\n",
    "plt.grid(True)\n",
    "plt.show()\n"
   ]
  },
  {
   "cell_type": "code",
   "execution_count": null,
   "id": "3500a102",
   "metadata": {},
   "outputs": [],
   "source": [
    "#4th question"
   ]
  },
  {
   "cell_type": "code",
   "execution_count": 2,
   "id": "a508193d",
   "metadata": {},
   "outputs": [
    {
     "name": "stdout",
     "output_type": "stream",
     "text": [
      "Accuracy: 0.2936802973977695\n"
     ]
    }
   ],
   "source": [
    "import pandas as pd\n",
    "from sklearn.model_selection import train_test_split\n",
    "from sklearn.preprocessing import LabelEncoder\n",
    "from sklearn.impute import SimpleImputer\n",
    "from sklearn.linear_model import LogisticRegression\n",
    "from sklearn.metrics import accuracy_score\n",
    "\n",
    "df = pd.read_csv(\"train.csv\")\n",
    "\n",
    "X = df.drop(columns=['Segmentation'])\n",
    "y = df['Segmentation']\n",
    "\n",
    "\n",
    "le = LabelEncoder()\n",
    "for col in X.select_dtypes(include=['object']).columns:\n",
    "    X[col] = le.fit_transform(X[col])\n",
    "\n",
    "# Handling the missing values\n",
    "imp = SimpleImputer(strategy='mean')\n",
    "X = imp.fit_transform(X)\n",
    "\n",
    "# Splitting the dataset\n",
    "X_train, X_test, y_train, y_test = train_test_split(X, y, test_size=0.2, random_state=42)\n",
    "\n",
    "# Initializing and training model\n",
    "mdl = LogisticRegression(random_state=42)\n",
    "mdl.fit(X_train, y_train)\n",
    "\n",
    "# Predicting on test set\n",
    "y_pred = mdl.predict(X_test)\n",
    "\n",
    "# Calculating accuracy\n",
    "acc = accuracy_score(y_test, y_pred)\n",
    "print(\"Accuracy:\", acc)\n"
   ]
  },
  {
   "cell_type": "code",
   "execution_count": null,
   "id": "86078b99",
   "metadata": {},
   "outputs": [],
   "source": [
    "#Evaluation and Comparison:"
   ]
  },
  {
   "cell_type": "code",
   "execution_count": 7,
   "id": "0d9bdac4",
   "metadata": {},
   "outputs": [
    {
     "name": "stdout",
     "output_type": "stream",
     "text": [
      "Accuracy of Logistic Regression Model: 0.2936802973977695\n",
      "Accuracy of Neural Network Model: 0.23543990086741015\n"
     ]
    },
    {
     "data": {
      "image/png": "[encoded data removed]",
      "text/plain": [
       "<Figure size 640x480 with 1 Axes>"
      ]
     },
     "metadata": {},
     "output_type": "display_data"
    },
    {
     "name": "stdout",
     "output_type": "stream",
     "text": [
      "Confusion Matrix for Logistic Regression:\n",
      "[[  0   0   0 391]\n",
      " [  0   0   0 369]\n",
      " [  0   0   0 380]\n",
      " [  0   0   0 474]]\n",
      "\n",
      "Classification Report for Logistic Regression:\n",
      "              precision    recall  f1-score   support\n",
      "\n",
      "           A       0.00      0.00      0.00       391\n",
      "           B       0.00      0.00      0.00       369\n",
      "           C       0.00      0.00      0.00       380\n",
      "           D       0.29      1.00      0.45       474\n",
      "\n",
      "    accuracy                           0.29      1614\n",
      "   macro avg       0.07      0.25      0.11      1614\n",
      "weighted avg       0.09      0.29      0.13      1614\n",
      "\n",
      "Confusion Matrix for Neural Network:\n",
      "[[  0   0 391   0]\n",
      " [  0   0 369   0]\n",
      " [  0   0 380   0]\n",
      " [  0   0 474   0]]\n",
      "\n",
      "Classification Report for Neural Network:\n",
      "              precision    recall  f1-score   support\n",
      "\n",
      "           A       0.00      0.00      0.00       391\n",
      "           B       0.00      0.00      0.00       369\n",
      "           C       0.24      1.00      0.38       380\n",
      "           D       0.00      0.00      0.00       474\n",
      "\n",
      "    accuracy                           0.24      1614\n",
      "   macro avg       0.06      0.25      0.10      1614\n",
      "weighted avg       0.06      0.24      0.09      1614\n",
      "\n"
     ]
    },
    {
     "name": "stderr",
     "output_type": "stream",
     "text": [
      "C:\\Users\\somu4\\anaconda3\\lib\\site-packages\\sklearn\\metrics\\_classification.py:1344: UndefinedMetricWarning: Precision and F-score are ill-defined and being set to 0.0 in labels with no predicted samples. Use `zero_division` parameter to control this behavior.\n",
      "  _warn_prf(average, modifier, msg_start, len(result))\n",
      "C:\\Users\\somu4\\anaconda3\\lib\\site-packages\\sklearn\\metrics\\_classification.py:1344: UndefinedMetricWarning: Precision and F-score are ill-defined and being set to 0.0 in labels with no predicted samples. Use `zero_division` parameter to control this behavior.\n",
      "  _warn_prf(average, modifier, msg_start, len(result))\n",
      "C:\\Users\\somu4\\anaconda3\\lib\\site-packages\\sklearn\\metrics\\_classification.py:1344: UndefinedMetricWarning: Precision and F-score are ill-defined and being set to 0.0 in labels with no predicted samples. Use `zero_division` parameter to control this behavior.\n",
      "  _warn_prf(average, modifier, msg_start, len(result))\n",
      "C:\\Users\\somu4\\anaconda3\\lib\\site-packages\\sklearn\\metrics\\_classification.py:1344: UndefinedMetricWarning: Precision and F-score are ill-defined and being set to 0.0 in labels with no predicted samples. Use `zero_division` parameter to control this behavior.\n",
      "  _warn_prf(average, modifier, msg_start, len(result))\n",
      "C:\\Users\\somu4\\anaconda3\\lib\\site-packages\\sklearn\\metrics\\_classification.py:1344: UndefinedMetricWarning: Precision and F-score are ill-defined and being set to 0.0 in labels with no predicted samples. Use `zero_division` parameter to control this behavior.\n",
      "  _warn_prf(average, modifier, msg_start, len(result))\n",
      "C:\\Users\\somu4\\anaconda3\\lib\\site-packages\\sklearn\\metrics\\_classification.py:1344: UndefinedMetricWarning: Precision and F-score are ill-defined and being set to 0.0 in labels with no predicted samples. Use `zero_division` parameter to control this behavior.\n",
      "  _warn_prf(average, modifier, msg_start, len(result))\n"
     ]
    }
   ],
   "source": [
    "import pandas as pd\n",
    "from sklearn.model_selection import train_test_split\n",
    "from sklearn.preprocessing import LabelEncoder\n",
    "from sklearn.impute import SimpleImputer\n",
    "from sklearn.linear_model import LogisticRegression\n",
    "from sklearn.neural_network import MLPClassifier\n",
    "from sklearn.metrics import accuracy_score, confusion_matrix, classification_report\n",
    "import matplotlib.pyplot as plt\n",
    "\n",
    "\n",
    "d = pd.read_csv(\"train.csv\")\n",
    "\n",
    "\n",
    "X = d.drop(columns=['Segmentation'])\n",
    "y = d['Segmentation']\n",
    "\n",
    "\n",
    "l = LabelEncoder()\n",
    "for c in X.select_dtypes(include=['object']).columns:\n",
    "    X[c] = l.fit_transform(X[c])\n",
    "\n",
    "\n",
    "i = SimpleImputer(strategy='mean')\n",
    "X = i.fit_transform(X)\n",
    "\n",
    "# Splitting data into training and testing sets\n",
    "X_tr, X_te, y_tr, y_te = train_test_split(X, y, test_size=0.2, random_state=42)\n",
    "\n",
    "# Initializing and train logistic regression model\n",
    "log_m = LogisticRegression(random_state=42)\n",
    "log_m.fit(X_tr, y_tr)\n",
    "\n",
    "# Predicting using logistic regression model\n",
    "p_log = log_m.predict(X_te)\n",
    "\n",
    "# Calculating accuracy for logistic regression\n",
    "a_log = accuracy_score(y_te, p_log)\n",
    "print(\"Accuracy of Logistic Regression Model:\", a_log)\n",
    "\n",
    "\n",
    "nn_m = MLPClassifier(random_state=42)\n",
    "nn_m.fit(X_tr, y_tr)\n",
    "\n",
    "\n",
    "p_nn = nn_m.predict(X_te)\n",
    "\n",
    "# Calculating accuracy for neural network\n",
    "a_nn = accuracy_score(y_te, p_nn)\n",
    "print(\"Accuracy of Neural Network Model:\", a_nn)\n",
    "\n",
    "# Plotting the loss curve for the neural network\n",
    "plt.plot(nn_m.loss_curve_)\n",
    "plt.title(\"Neural Network Learning Curve\")\n",
    "plt.xlabel(\"Iterations\")\n",
    "plt.ylabel(\"Loss\")\n",
    "plt.show()\n",
    "\n",
    "# Confusion matrix and classification report\n",
    "print(\"Confusion Matrix for Logistic Regression:\")\n",
    "print(confusion_matrix(y_te, p_log))\n",
    "print(\"\\nClassification Report for Logistic Regression:\")\n",
    "print(classification_report(y_te, p_log))\n",
    "\n",
    "\n",
    "print(\"Confusion Matrix for Neural Network:\")\n",
    "print(confusion_matrix(y_te, p_nn))\n",
    "print(\"\\nClassification Report for Neural Network:\")\n",
    "print(classification_report(y_te, p_nn))\n"
   ]
  },
  {
   "cell_type": "code",
   "execution_count": null,
   "id": "87ce3683",
   "metadata": {},
   "outputs": [],
   "source": []
  }
 ],
 "metadata": {
  "kernelspec": {
   "display_name": "Python 3 (ipykernel)",
   "language": "python",
   "name": "python3"
  },
  "language_info": {
   "codemirror_mode": {
    "name": "ipython",
    "version": 3
   },
   "file_extension": ".py",
   "mimetype": "text/x-python",
   "name": "python",
   "nbconvert_exporter": "python",
   "pygments_lexer": "ipython3",
   "version": "3.10.9"
  }
 },
 "nbformat": 4,
 "nbformat_minor": 5
}
